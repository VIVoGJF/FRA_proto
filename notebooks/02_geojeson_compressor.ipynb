{
 "cells": [
  {
   "cell_type": "code",
   "execution_count": 4,
   "id": "7d8958ae",
   "metadata": {},
   "outputs": [
    {
     "name": "stdout",
     "output_type": "stream",
     "text": [
      "📂 Processing fra.geojson ...\n",
      "✅ Simplified and saved fra.geojson\n",
      "📂 Processing fra_landuse.geojson ...\n",
      "✅ Simplified and saved fra_landuse.geojson\n",
      "📂 Processing fra_villagemap.geojson ...\n",
      "✅ Simplified and saved fra_villagemap.geojson\n"
     ]
    }
   ],
   "source": [
    "import geopandas as gpd\n",
    "from pathlib import Path\n",
    "\n",
    "def simplify_geojsons(folder, tolerance=0.0001):\n",
    "    \"\"\"\n",
    "    Simplify all GeoJSON files in a folder to reduce size.\n",
    "    \n",
    "    Args:\n",
    "        folder (str or Path): Directory containing .geojson files\n",
    "        tolerance (float): Simplification tolerance (larger = more compression)\n",
    "    \"\"\"\n",
    "    folder = Path(folder)\n",
    "    geojson_files = list(folder.glob(\"*.geojson\"))\n",
    "    \n",
    "    if not geojson_files:\n",
    "        print(\"⚠️ No GeoJSON files found in\", folder)\n",
    "        return\n",
    "\n",
    "    for file in geojson_files:\n",
    "        try:\n",
    "            print(f\"📂 Processing {file.name} ...\")\n",
    "            gdf = gpd.read_file(file)\n",
    "\n",
    "            # Simplify geometry\n",
    "            gdf[\"geometry\"] = gdf[\"geometry\"].simplify(tolerance, preserve_topology=True)\n",
    "\n",
    "            # Overwrite file (minify GeoJSON output)\n",
    "            gdf.to_file(file, driver=\"GeoJSON\")\n",
    "            print(f\"✅ Simplified and saved {file.name}\")\n",
    "\n",
    "        except Exception as e:\n",
    "            print(f\"❌ Error with {file.name}: {e}\")\n",
    "\n",
    "\n",
    "if __name__ == \"__main__\":\n",
    "    base = Path.cwd().parent / \"data\" / \"processed\" / \"geojson\"\n",
    "    simplify_geojsons(base, tolerance=0.0001)  # adjust tolerance if needed\n"
   ]
  }
 ],
 "metadata": {
  "kernelspec": {
   "display_name": ".venv",
   "language": "python",
   "name": "python3"
  },
  "language_info": {
   "codemirror_mode": {
    "name": "ipython",
    "version": 3
   },
   "file_extension": ".py",
   "mimetype": "text/x-python",
   "name": "python",
   "nbconvert_exporter": "python",
   "pygments_lexer": "ipython3",
   "version": "3.13.3"
  }
 },
 "nbformat": 4,
 "nbformat_minor": 5
}
